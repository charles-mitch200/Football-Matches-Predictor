{
 "cells": [
  {
   "cell_type": "markdown",
   "id": "a577c08e",
   "metadata": {},
   "source": [
    "# Football Matches Predictor"
   ]
  },
  {
   "cell_type": "code",
   "execution_count": 1,
   "id": "b093a6ee",
   "metadata": {},
   "outputs": [],
   "source": [
    "# import necessary libraries\n",
    "import numpy as np\n",
    "import pandas as pd\n",
    "import matplotlib.pyplot as plt\n",
    "import seaborn as sns\n",
    "%matplotlib inline"
   ]
  },
  {
   "cell_type": "code",
   "execution_count": 2,
   "id": "ac56ba07",
   "metadata": {},
   "outputs": [
    {
     "data": {
      "text/html": [
       "<div>\n",
       "<style scoped>\n",
       "    .dataframe tbody tr th:only-of-type {\n",
       "        vertical-align: middle;\n",
       "    }\n",
       "\n",
       "    .dataframe tbody tr th {\n",
       "        vertical-align: top;\n",
       "    }\n",
       "\n",
       "    .dataframe thead th {\n",
       "        text-align: right;\n",
       "    }\n",
       "</style>\n",
       "<table border=\"1\" class=\"dataframe\">\n",
       "  <thead>\n",
       "    <tr style=\"text-align: right;\">\n",
       "      <th></th>\n",
       "      <th>Div</th>\n",
       "      <th>Date</th>\n",
       "      <th>Time</th>\n",
       "      <th>HomeTeam</th>\n",
       "      <th>AwayTeam</th>\n",
       "      <th>H_Ranking_Prior_Season</th>\n",
       "      <th>A_Ranking_Prior_Season</th>\n",
       "      <th>FTHG</th>\n",
       "      <th>FTAG</th>\n",
       "      <th>FTR</th>\n",
       "      <th>...</th>\n",
       "      <th>AvgC&lt;2.5</th>\n",
       "      <th>AHCh</th>\n",
       "      <th>B365CAHH</th>\n",
       "      <th>B365CAHA</th>\n",
       "      <th>PCAHH</th>\n",
       "      <th>PCAHA</th>\n",
       "      <th>MaxCAHH</th>\n",
       "      <th>MaxCAHA</th>\n",
       "      <th>AvgCAHH</th>\n",
       "      <th>AvgCAHA</th>\n",
       "    </tr>\n",
       "  </thead>\n",
       "  <tbody>\n",
       "    <tr>\n",
       "      <th>0</th>\n",
       "      <td>E0</td>\n",
       "      <td>05/08/2022</td>\n",
       "      <td>20:00</td>\n",
       "      <td>Crystal Palace</td>\n",
       "      <td>Arsenal</td>\n",
       "      <td>12</td>\n",
       "      <td>5</td>\n",
       "      <td>0</td>\n",
       "      <td>2</td>\n",
       "      <td>A</td>\n",
       "      <td>...</td>\n",
       "      <td>1.76</td>\n",
       "      <td>0.50</td>\n",
       "      <td>2.09</td>\n",
       "      <td>1.84</td>\n",
       "      <td>2.04</td>\n",
       "      <td>1.88</td>\n",
       "      <td>2.09</td>\n",
       "      <td>1.88</td>\n",
       "      <td>2.03</td>\n",
       "      <td>1.85</td>\n",
       "    </tr>\n",
       "    <tr>\n",
       "      <th>1</th>\n",
       "      <td>E0</td>\n",
       "      <td>06/08/2022</td>\n",
       "      <td>12:30</td>\n",
       "      <td>Fulham</td>\n",
       "      <td>Liverpool</td>\n",
       "      <td>18</td>\n",
       "      <td>2</td>\n",
       "      <td>2</td>\n",
       "      <td>2</td>\n",
       "      <td>D</td>\n",
       "      <td>...</td>\n",
       "      <td>2.73</td>\n",
       "      <td>1.75</td>\n",
       "      <td>1.90</td>\n",
       "      <td>2.03</td>\n",
       "      <td>1.91</td>\n",
       "      <td>2.02</td>\n",
       "      <td>2.01</td>\n",
       "      <td>2.06</td>\n",
       "      <td>1.89</td>\n",
       "      <td>1.99</td>\n",
       "    </tr>\n",
       "    <tr>\n",
       "      <th>2</th>\n",
       "      <td>E0</td>\n",
       "      <td>06/08/2022</td>\n",
       "      <td>15:00</td>\n",
       "      <td>Bournemouth</td>\n",
       "      <td>Aston Villa</td>\n",
       "      <td>18</td>\n",
       "      <td>14</td>\n",
       "      <td>2</td>\n",
       "      <td>0</td>\n",
       "      <td>H</td>\n",
       "      <td>...</td>\n",
       "      <td>1.76</td>\n",
       "      <td>0.50</td>\n",
       "      <td>1.93</td>\n",
       "      <td>2.00</td>\n",
       "      <td>1.93</td>\n",
       "      <td>2.00</td>\n",
       "      <td>1.94</td>\n",
       "      <td>2.04</td>\n",
       "      <td>1.88</td>\n",
       "      <td>2.00</td>\n",
       "    </tr>\n",
       "    <tr>\n",
       "      <th>3</th>\n",
       "      <td>E0</td>\n",
       "      <td>06/08/2022</td>\n",
       "      <td>15:00</td>\n",
       "      <td>Leeds</td>\n",
       "      <td>Wolves</td>\n",
       "      <td>17</td>\n",
       "      <td>10</td>\n",
       "      <td>2</td>\n",
       "      <td>1</td>\n",
       "      <td>H</td>\n",
       "      <td>...</td>\n",
       "      <td>1.87</td>\n",
       "      <td>-0.25</td>\n",
       "      <td>2.08</td>\n",
       "      <td>1.85</td>\n",
       "      <td>2.10</td>\n",
       "      <td>1.84</td>\n",
       "      <td>2.14</td>\n",
       "      <td>1.87</td>\n",
       "      <td>2.08</td>\n",
       "      <td>1.81</td>\n",
       "    </tr>\n",
       "    <tr>\n",
       "      <th>4</th>\n",
       "      <td>E0</td>\n",
       "      <td>06/08/2022</td>\n",
       "      <td>15:00</td>\n",
       "      <td>Newcastle</td>\n",
       "      <td>Nott'm Forest</td>\n",
       "      <td>11</td>\n",
       "      <td>18</td>\n",
       "      <td>2</td>\n",
       "      <td>0</td>\n",
       "      <td>H</td>\n",
       "      <td>...</td>\n",
       "      <td>1.89</td>\n",
       "      <td>-1.00</td>\n",
       "      <td>1.97</td>\n",
       "      <td>1.96</td>\n",
       "      <td>1.99</td>\n",
       "      <td>1.93</td>\n",
       "      <td>2.19</td>\n",
       "      <td>1.97</td>\n",
       "      <td>2.03</td>\n",
       "      <td>1.86</td>\n",
       "    </tr>\n",
       "  </tbody>\n",
       "</table>\n",
       "<p>5 rows × 108 columns</p>\n",
       "</div>"
      ],
      "text/plain": [
       "  Div        Date   Time        HomeTeam       AwayTeam  \\\n",
       "0  E0  05/08/2022  20:00  Crystal Palace        Arsenal   \n",
       "1  E0  06/08/2022  12:30          Fulham      Liverpool   \n",
       "2  E0  06/08/2022  15:00     Bournemouth    Aston Villa   \n",
       "3  E0  06/08/2022  15:00           Leeds         Wolves   \n",
       "4  E0  06/08/2022  15:00       Newcastle  Nott'm Forest   \n",
       "\n",
       "   H_Ranking_Prior_Season  A_Ranking_Prior_Season  FTHG  FTAG FTR  ...  \\\n",
       "0                      12                       5     0     2   A  ...   \n",
       "1                      18                       2     2     2   D  ...   \n",
       "2                      18                      14     2     0   H  ...   \n",
       "3                      17                      10     2     1   H  ...   \n",
       "4                      11                      18     2     0   H  ...   \n",
       "\n",
       "   AvgC<2.5  AHCh B365CAHH B365CAHA  PCAHH  PCAHA  MaxCAHH  MaxCAHA  AvgCAHH  \\\n",
       "0      1.76  0.50     2.09     1.84   2.04   1.88     2.09     1.88     2.03   \n",
       "1      2.73  1.75     1.90     2.03   1.91   2.02     2.01     2.06     1.89   \n",
       "2      1.76  0.50     1.93     2.00   1.93   2.00     1.94     2.04     1.88   \n",
       "3      1.87 -0.25     2.08     1.85   2.10   1.84     2.14     1.87     2.08   \n",
       "4      1.89 -1.00     1.97     1.96   1.99   1.93     2.19     1.97     2.03   \n",
       "\n",
       "   AvgCAHA  \n",
       "0     1.85  \n",
       "1     1.99  \n",
       "2     2.00  \n",
       "3     1.81  \n",
       "4     1.86  \n",
       "\n",
       "[5 rows x 108 columns]"
      ]
     },
     "execution_count": 2,
     "metadata": {},
     "output_type": "execute_result"
    }
   ],
   "source": [
    "# read the data\n",
    "df = pd.read_csv(\"FB_2023 - Sheet1.csv\")\n",
    "df.head()"
   ]
  },
  {
   "cell_type": "code",
   "execution_count": 3,
   "id": "80eed928",
   "metadata": {},
   "outputs": [
    {
     "data": {
      "text/plain": [
       "(380, 108)"
      ]
     },
     "execution_count": 3,
     "metadata": {},
     "output_type": "execute_result"
    }
   ],
   "source": [
    "# shape of the data\n",
    "df.shape"
   ]
  },
  {
   "cell_type": "code",
   "execution_count": 4,
   "id": "a4b292c1",
   "metadata": {},
   "outputs": [
    {
     "data": {
      "text/plain": [
       "<bound method DataFrame.info of     Div        Date   Time        HomeTeam       AwayTeam  \\\n",
       "0    E0  05/08/2022  20:00  Crystal Palace        Arsenal   \n",
       "1    E0  06/08/2022  12:30          Fulham      Liverpool   \n",
       "2    E0  06/08/2022  15:00     Bournemouth    Aston Villa   \n",
       "3    E0  06/08/2022  15:00           Leeds         Wolves   \n",
       "4    E0  06/08/2022  15:00       Newcastle  Nott'm Forest   \n",
       "..   ..         ...    ...             ...            ...   \n",
       "375  E0  28/05/2023  16:30         Everton    Bournemouth   \n",
       "376  E0  28/05/2023  16:30           Leeds      Tottenham   \n",
       "377  E0  28/05/2023  16:30       Leicester       West Ham   \n",
       "378  E0  28/05/2023  16:30      Man United         Fulham   \n",
       "379  E0  28/05/2023  16:30     Southampton      Liverpool   \n",
       "\n",
       "     H_Ranking_Prior_Season  A_Ranking_Prior_Season  FTHG  FTAG FTR  ...  \\\n",
       "0                        12                       5     0     2   A  ...   \n",
       "1                        18                       2     2     2   D  ...   \n",
       "2                        18                      14     2     0   H  ...   \n",
       "3                        17                      10     2     1   H  ...   \n",
       "4                        11                      18     2     0   H  ...   \n",
       "..                      ...                     ...   ...   ...  ..  ...   \n",
       "375                      16                      18     1     0   H  ...   \n",
       "376                      17                       4     1     4   A  ...   \n",
       "377                       8                       7     2     1   H  ...   \n",
       "378                       6                      18     2     1   H  ...   \n",
       "379                      15                       2     4     4   D  ...   \n",
       "\n",
       "     AvgC<2.5  AHCh B365CAHH B365CAHA  PCAHH  PCAHA  MaxCAHH  MaxCAHA  \\\n",
       "0        1.76  0.50     2.09     1.84   2.04   1.88     2.09     1.88   \n",
       "1        2.73  1.75     1.90     2.03   1.91   2.02     2.01     2.06   \n",
       "2        1.76  0.50     1.93     2.00   1.93   2.00     1.94     2.04   \n",
       "3        1.87 -0.25     2.08     1.85   2.10   1.84     2.14     1.87   \n",
       "4        1.89 -1.00     1.97     1.96   1.99   1.93     2.19     1.97   \n",
       "..        ...   ...      ...      ...    ...    ...      ...      ...   \n",
       "375      2.14 -1.00     2.02     1.77   2.10   1.81     2.17     1.92   \n",
       "376      2.50  0.25     1.84     2.06   1.83   2.10     1.90     2.14   \n",
       "377      2.51 -0.25     1.75     2.05   1.85   2.06     1.90     2.16   \n",
       "378      2.95 -1.25     1.98     1.92   1.98   1.93     2.07     1.98   \n",
       "379      3.22  1.25     1.82     2.08   1.85   2.07     1.96     2.12   \n",
       "\n",
       "     AvgCAHH  AvgCAHA  \n",
       "0       2.03     1.85  \n",
       "1       1.89     1.99  \n",
       "2       1.88     2.00  \n",
       "3       2.08     1.81  \n",
       "4       2.03     1.86  \n",
       "..       ...      ...  \n",
       "375     2.03     1.83  \n",
       "376     1.81     2.06  \n",
       "377     1.82     2.04  \n",
       "378     1.97     1.89  \n",
       "379     1.88     1.98  \n",
       "\n",
       "[380 rows x 108 columns]>"
      ]
     },
     "execution_count": 4,
     "metadata": {},
     "output_type": "execute_result"
    }
   ],
   "source": [
    "# information on the data\n",
    "df.info"
   ]
  },
  {
   "cell_type": "code",
   "execution_count": 5,
   "id": "dde4d727",
   "metadata": {},
   "outputs": [
    {
     "data": {
      "text/plain": [
       "Div         0\n",
       "Date        0\n",
       "Time        0\n",
       "HomeTeam    0\n",
       "AwayTeam    0\n",
       "           ..\n",
       "PCAHA       0\n",
       "MaxCAHH     0\n",
       "MaxCAHA     0\n",
       "AvgCAHH     0\n",
       "AvgCAHA     0\n",
       "Length: 108, dtype: int64"
      ]
     },
     "execution_count": 5,
     "metadata": {},
     "output_type": "execute_result"
    }
   ],
   "source": [
    "# check missing values\n",
    "df.isnull().sum()"
   ]
  },
  {
   "cell_type": "code",
   "execution_count": 6,
   "id": "a3541d98",
   "metadata": {},
   "outputs": [
    {
     "data": {
      "text/plain": [
       "Index(['Div', 'Date', 'Time', 'HomeTeam', 'AwayTeam', 'H_Ranking_Prior_Season',\n",
       "       'A_Ranking_Prior_Season', 'FTHG', 'FTAG', 'FTR',\n",
       "       ...\n",
       "       'AvgC<2.5', 'AHCh', 'B365CAHH', 'B365CAHA', 'PCAHH', 'PCAHA', 'MaxCAHH',\n",
       "       'MaxCAHA', 'AvgCAHH', 'AvgCAHA'],\n",
       "      dtype='object', length=108)"
      ]
     },
     "execution_count": 6,
     "metadata": {},
     "output_type": "execute_result"
    }
   ],
   "source": [
    "df.columns"
   ]
  },
  {
   "cell_type": "markdown",
   "id": "d17ca518",
   "metadata": {},
   "source": [
    "## Exploratory Data Analysis"
   ]
  },
  {
   "cell_type": "code",
   "execution_count": 7,
   "id": "61a43edd",
   "metadata": {},
   "outputs": [],
   "source": [
    "# Keep only columns that can inform before game or during half time\n",
    "df = df[['Date','Time','HomeTeam','AwayTeam','H_Ranking_Prior_Season','A_Ranking_Prior_Season','FTHG','FTAG','FTR','HTHG','HTAG','HTR','Referee','B365H','B365D','B365A']]"
   ]
  },
  {
   "cell_type": "code",
   "execution_count": 8,
   "id": "349ba780",
   "metadata": {},
   "outputs": [
    {
     "data": {
      "text/html": [
       "<div>\n",
       "<style scoped>\n",
       "    .dataframe tbody tr th:only-of-type {\n",
       "        vertical-align: middle;\n",
       "    }\n",
       "\n",
       "    .dataframe tbody tr th {\n",
       "        vertical-align: top;\n",
       "    }\n",
       "\n",
       "    .dataframe thead th {\n",
       "        text-align: right;\n",
       "    }\n",
       "</style>\n",
       "<table border=\"1\" class=\"dataframe\">\n",
       "  <thead>\n",
       "    <tr style=\"text-align: right;\">\n",
       "      <th></th>\n",
       "      <th>Date</th>\n",
       "      <th>Time</th>\n",
       "      <th>HomeTeam</th>\n",
       "      <th>AwayTeam</th>\n",
       "      <th>H_Ranking_Prior_Season</th>\n",
       "      <th>A_Ranking_Prior_Season</th>\n",
       "      <th>FTHG</th>\n",
       "      <th>FTAG</th>\n",
       "      <th>FTR</th>\n",
       "      <th>HTHG</th>\n",
       "      <th>HTAG</th>\n",
       "      <th>HTR</th>\n",
       "      <th>Referee</th>\n",
       "      <th>B365H</th>\n",
       "      <th>B365D</th>\n",
       "      <th>B365A</th>\n",
       "    </tr>\n",
       "  </thead>\n",
       "  <tbody>\n",
       "    <tr>\n",
       "      <th>0</th>\n",
       "      <td>05/08/2022</td>\n",
       "      <td>20:00</td>\n",
       "      <td>Crystal Palace</td>\n",
       "      <td>Arsenal</td>\n",
       "      <td>12</td>\n",
       "      <td>5</td>\n",
       "      <td>0</td>\n",
       "      <td>2</td>\n",
       "      <td>A</td>\n",
       "      <td>0</td>\n",
       "      <td>1</td>\n",
       "      <td>A</td>\n",
       "      <td>A Taylor</td>\n",
       "      <td>4.20</td>\n",
       "      <td>3.6</td>\n",
       "      <td>1.85</td>\n",
       "    </tr>\n",
       "    <tr>\n",
       "      <th>1</th>\n",
       "      <td>06/08/2022</td>\n",
       "      <td>12:30</td>\n",
       "      <td>Fulham</td>\n",
       "      <td>Liverpool</td>\n",
       "      <td>18</td>\n",
       "      <td>2</td>\n",
       "      <td>2</td>\n",
       "      <td>2</td>\n",
       "      <td>D</td>\n",
       "      <td>1</td>\n",
       "      <td>0</td>\n",
       "      <td>H</td>\n",
       "      <td>A Madley</td>\n",
       "      <td>11.00</td>\n",
       "      <td>6.0</td>\n",
       "      <td>1.25</td>\n",
       "    </tr>\n",
       "    <tr>\n",
       "      <th>2</th>\n",
       "      <td>06/08/2022</td>\n",
       "      <td>15:00</td>\n",
       "      <td>Bournemouth</td>\n",
       "      <td>Aston Villa</td>\n",
       "      <td>18</td>\n",
       "      <td>14</td>\n",
       "      <td>2</td>\n",
       "      <td>0</td>\n",
       "      <td>H</td>\n",
       "      <td>1</td>\n",
       "      <td>0</td>\n",
       "      <td>H</td>\n",
       "      <td>P Bankes</td>\n",
       "      <td>3.75</td>\n",
       "      <td>3.5</td>\n",
       "      <td>2.00</td>\n",
       "    </tr>\n",
       "    <tr>\n",
       "      <th>3</th>\n",
       "      <td>06/08/2022</td>\n",
       "      <td>15:00</td>\n",
       "      <td>Leeds</td>\n",
       "      <td>Wolves</td>\n",
       "      <td>17</td>\n",
       "      <td>10</td>\n",
       "      <td>2</td>\n",
       "      <td>1</td>\n",
       "      <td>H</td>\n",
       "      <td>1</td>\n",
       "      <td>1</td>\n",
       "      <td>D</td>\n",
       "      <td>R Jones</td>\n",
       "      <td>2.25</td>\n",
       "      <td>3.4</td>\n",
       "      <td>3.20</td>\n",
       "    </tr>\n",
       "    <tr>\n",
       "      <th>4</th>\n",
       "      <td>06/08/2022</td>\n",
       "      <td>15:00</td>\n",
       "      <td>Newcastle</td>\n",
       "      <td>Nott'm Forest</td>\n",
       "      <td>11</td>\n",
       "      <td>18</td>\n",
       "      <td>2</td>\n",
       "      <td>0</td>\n",
       "      <td>H</td>\n",
       "      <td>0</td>\n",
       "      <td>0</td>\n",
       "      <td>D</td>\n",
       "      <td>S Hooper</td>\n",
       "      <td>1.66</td>\n",
       "      <td>3.8</td>\n",
       "      <td>5.25</td>\n",
       "    </tr>\n",
       "  </tbody>\n",
       "</table>\n",
       "</div>"
      ],
      "text/plain": [
       "         Date   Time        HomeTeam       AwayTeam  H_Ranking_Prior_Season  \\\n",
       "0  05/08/2022  20:00  Crystal Palace        Arsenal                      12   \n",
       "1  06/08/2022  12:30          Fulham      Liverpool                      18   \n",
       "2  06/08/2022  15:00     Bournemouth    Aston Villa                      18   \n",
       "3  06/08/2022  15:00           Leeds         Wolves                      17   \n",
       "4  06/08/2022  15:00       Newcastle  Nott'm Forest                      11   \n",
       "\n",
       "   A_Ranking_Prior_Season  FTHG  FTAG FTR  HTHG  HTAG HTR   Referee  B365H  \\\n",
       "0                       5     0     2   A     0     1   A  A Taylor   4.20   \n",
       "1                       2     2     2   D     1     0   H  A Madley  11.00   \n",
       "2                      14     2     0   H     1     0   H  P Bankes   3.75   \n",
       "3                      10     2     1   H     1     1   D   R Jones   2.25   \n",
       "4                      18     2     0   H     0     0   D  S Hooper   1.66   \n",
       "\n",
       "   B365D  B365A  \n",
       "0    3.6   1.85  \n",
       "1    6.0   1.25  \n",
       "2    3.5   2.00  \n",
       "3    3.4   3.20  \n",
       "4    3.8   5.25  "
      ]
     },
     "execution_count": 8,
     "metadata": {},
     "output_type": "execute_result"
    }
   ],
   "source": [
    "df.head()"
   ]
  },
  {
   "cell_type": "code",
   "execution_count": 9,
   "id": "7a5216e8",
   "metadata": {},
   "outputs": [
    {
     "name": "stdout",
     "output_type": "stream",
     "text": [
      "Shape of the data:  (380, 16)\n",
      "\n",
      "\n",
      "Full time results:\n",
      "FTR\n",
      "H    0.484211\n",
      "A    0.286842\n",
      "D    0.228947\n",
      "Name: count, dtype: float64\n",
      "\n",
      "\n",
      "Half time results:\n",
      "HTR\n",
      "D    0.384211\n",
      "H    0.363158\n",
      "A    0.252632\n",
      "Name: count, dtype: float64\n"
     ]
    }
   ],
   "source": [
    "# Shape of the data\n",
    "print(\"Shape of the data: \", df.shape)\n",
    "print(\"\\n\")\n",
    "\n",
    "# Is there a home team advantage?\n",
    "print(\"Full time results:\")\n",
    "print(df['FTR'].value_counts() / df.shape[0])\n",
    "\n",
    "print(\"\\n\")\n",
    "\n",
    "# Is there a home team advantage at halftime\n",
    "print(\"Half time results:\")\n",
    "print(df['HTR'].value_counts() / df.shape[0])"
   ]
  },
  {
   "cell_type": "markdown",
   "id": "ee28c047",
   "metadata": {},
   "source": [
    "The purpose of finding out the percentage of games won by the home or away side was to determine whether home advantage — a phenomenon in most sports wherein the team whose ground the game is being played at often gets additional benefit due to fan support — did have a significant impact and whether it should be included as a critical feature while creating a model, and evidently as seen above it has a significant impact on the outcome of the game with the home team winning approximately 48% of the time."
   ]
  },
  {
   "cell_type": "code",
   "execution_count": 10,
   "id": "abe5d445",
   "metadata": {},
   "outputs": [
    {
     "name": "stdout",
     "output_type": "stream",
     "text": [
      "Confusion matrix, half-time to full-time\n",
      "Full-Time   A   D    H\n",
      "Half-Time             \n",
      "A          62  22   12\n",
      "D          39  51   56\n",
      "H           8  14  116\n"
     ]
    }
   ],
   "source": [
    "# Confusion matrix of the full time results based on the half-time results\n",
    "print(\"Confusion matrix, half-time to full-time\")\n",
    "print(pd.crosstab(df[\"HTR\"], df['FTR'], rownames=['Half-Time'], colnames=[\"Full-Time\"]))"
   ]
  },
  {
   "cell_type": "markdown",
   "id": "d78673e8",
   "metadata": {},
   "source": [
    "This shows us that half-time results are fairly predictive of full-time end results, except in the case of draws at the half, for which the final results are pretty evenly split.\n",
    "1. If the half-time result was 'A' (Away win), the model correctly predicted the full-time result as 'A' for 62 matches. Similarly, for 'D' (Draw) at half-time, the model correctly predicted 'D' for 51 matches, and for 'H' (Home win) at half-time, it correctly predicted 'H' for 116 matches.\n",
    "\n",
    "2. The exception mentioned is for draws at half-time ('D'). In this case, the model is less accurate. For example, when the half-time result was a draw, it correctly predicted 'D' for 51 matches, but it incorrectly predicted 'A' for 39 matches and 'H' for 56 matches."
   ]
  },
  {
   "cell_type": "code",
   "execution_count": 11,
   "id": "78129ac0",
   "metadata": {},
   "outputs": [
    {
     "data": {
      "image/png": "[encoded data removed]",
      "text/plain": [
       "<Figure size 640x480 with 1 Axes>"
      ]
     },
     "metadata": {},
     "output_type": "display_data"
    }
   ],
   "source": [
    "# Histogram of full-time home team goals\n",
    "sns.histplot(x=df['FTHG'], bins=10)\n",
    "plt.title(\"The Histogram of {}\".format(\"FTHG\"))\n",
    "plt.show()"
   ]
  },
  {
   "cell_type": "markdown",
   "id": "6cbc89b7",
   "metadata": {},
   "source": [
    "The home team is most likely to score 0 to 3 goals at full time."
   ]
  },
  {
   "cell_type": "code",
   "execution_count": 12,
   "id": "2f38a040",
   "metadata": {},
   "outputs": [
    {
     "name": "stderr",
     "output_type": "stream",
     "text": [
      "C:\\Users\\CHARLES\\AppData\\Local\\Temp\\ipykernel_10596\\1227146479.py:2: SettingWithCopyWarning: \n",
      "A value is trying to be set on a copy of a slice from a DataFrame.\n",
      "Try using .loc[row_indexer,col_indexer] = value instead\n",
      "\n",
      "See the caveats in the documentation: https://pandas.pydata.org/pandas-docs/stable/user_guide/indexing.html#returning-a-view-versus-a-copy\n",
      "  df['half_time_GD'] = df['HTHG'] - df['HTAG']\n"
     ]
    },
    {
     "data": {
      "image/png": "[encoded data removed]",
      "text/plain": [
       "<Figure size 640x480 with 1 Axes>"
      ]
     },
     "metadata": {},
     "output_type": "display_data"
    }
   ],
   "source": [
    "# Variable creation (Point difference at half: Home goals - Away Goals)\n",
    "df['half_time_GD'] = df['HTHG'] - df['HTAG']\n",
    "\n",
    "# How predictive the goal difference is of the final outocome\n",
    "sns.histplot(x=df['half_time_GD'], bins=10)\n",
    "plt.title(\"The Histogram of {}\".format(\"half_time_GD\"))\n",
    "plt.show()"
   ]
  },
  {
   "cell_type": "markdown",
   "id": "c7fd0e6b",
   "metadata": {},
   "source": [
    "The goal difference is most likely to be zero at half time."
   ]
  },
  {
   "cell_type": "code",
   "execution_count": 13,
   "id": "391feb12",
   "metadata": {},
   "outputs": [
    {
     "name": "stdout",
     "output_type": "stream",
     "text": [
      "Confusion matrix, half-time goal difference compared to full-time match result\n",
      "Full-Time                                 A   D   H\n",
      "Half-Time Goal Difference (Home - Away)            \n",
      "-3                                        6   0   0\n",
      "-2                                       17   1   2\n",
      "-1                                       39  21  10\n",
      " 0                                       39  51  56\n",
      " 1                                        7  14  75\n",
      " 2                                        1   0  26\n",
      " 3                                        0   0  10\n",
      " 4                                        0   0   3\n",
      " 5                                        0   0   2\n"
     ]
    }
   ],
   "source": [
    "print('Confusion matrix, half-time goal difference compared to full-time match result')\n",
    "print(pd.crosstab(df['half_time_GD'], df['FTR'], rownames=['Half-Time Goal Difference (Home - Away)'], colnames=['Full-Time']))"
   ]
  },
  {
   "cell_type": "markdown",
   "id": "7405abc3",
   "metadata": {},
   "source": [
    "### Interpretation:\n",
    "1. Negative Goal Differences:\n",
    "For matches where the home team was trailing by 3 goals at half-time, the model correctly predicted an Away win (A) for 6 matches.\n",
    "For matches where the home team was trailing by 2 goals at half-time, the model correctly predicted Away wins (A) for 17 matches, and Draws (D) for 1 match.\n",
    "\n",
    "2. Close or Tied at Half-Time (Goal Difference 0 or 1):\n",
    "For matches where the goal difference was 0 at half-time, the model correctly predicted Away wins (A) for 39 matches, Draws (D) for 51 matches, and Home wins (H) for 56 matches.\n",
    "For matches where the home team was leading by 1 goal at half-time, the model correctly predicted Away wins (A) for 7 matches, Draws (D) for 14 matches, and Home wins (H) for 75 matches.\n",
    "\n",
    "3. Positive Goal Differences:\n",
    "For matches where the home team was leading by 2 goals at half-time, the model correctly predicted Away wins (A) for 1 match and Home wins (H) for 26 matches.\n",
    "For matches where the home team was leading by 3 goals at half-time, the model correctly predicted Home wins (H) for 10 matches.\n",
    "For matches with a goal difference of 4 or 5 at half-time, the model correctly predicted Home wins (H) for 3 and 2 matches, respectively."
   ]
  },
  {
   "cell_type": "code",
   "execution_count": 14,
   "id": "ab83ca4c",
   "metadata": {},
   "outputs": [
    {
     "data": {
      "text/html": [
       "<div>\n",
       "<style scoped>\n",
       "    .dataframe tbody tr th:only-of-type {\n",
       "        vertical-align: middle;\n",
       "    }\n",
       "\n",
       "    .dataframe tbody tr th {\n",
       "        vertical-align: top;\n",
       "    }\n",
       "\n",
       "    .dataframe thead th {\n",
       "        text-align: right;\n",
       "    }\n",
       "</style>\n",
       "<table border=\"1\" class=\"dataframe\">\n",
       "  <thead>\n",
       "    <tr style=\"text-align: right;\">\n",
       "      <th></th>\n",
       "      <th>Date</th>\n",
       "      <th>Time</th>\n",
       "      <th>HomeTeam</th>\n",
       "      <th>AwayTeam</th>\n",
       "      <th>H_Ranking_Prior_Season</th>\n",
       "      <th>A_Ranking_Prior_Season</th>\n",
       "      <th>FTHG</th>\n",
       "      <th>FTAG</th>\n",
       "      <th>FTR</th>\n",
       "      <th>HTHG</th>\n",
       "      <th>HTAG</th>\n",
       "      <th>HTR</th>\n",
       "      <th>Referee</th>\n",
       "      <th>B365H</th>\n",
       "      <th>B365D</th>\n",
       "      <th>B365A</th>\n",
       "      <th>half_time_GD</th>\n",
       "    </tr>\n",
       "  </thead>\n",
       "  <tbody>\n",
       "    <tr>\n",
       "      <th>0</th>\n",
       "      <td>05/08/2022</td>\n",
       "      <td>20:00</td>\n",
       "      <td>Crystal Palace</td>\n",
       "      <td>Arsenal</td>\n",
       "      <td>12</td>\n",
       "      <td>5</td>\n",
       "      <td>0</td>\n",
       "      <td>2</td>\n",
       "      <td>A</td>\n",
       "      <td>0</td>\n",
       "      <td>1</td>\n",
       "      <td>A</td>\n",
       "      <td>A Taylor</td>\n",
       "      <td>4.20</td>\n",
       "      <td>3.6</td>\n",
       "      <td>1.85</td>\n",
       "      <td>-1</td>\n",
       "    </tr>\n",
       "    <tr>\n",
       "      <th>1</th>\n",
       "      <td>06/08/2022</td>\n",
       "      <td>12:30</td>\n",
       "      <td>Fulham</td>\n",
       "      <td>Liverpool</td>\n",
       "      <td>18</td>\n",
       "      <td>2</td>\n",
       "      <td>2</td>\n",
       "      <td>2</td>\n",
       "      <td>D</td>\n",
       "      <td>1</td>\n",
       "      <td>0</td>\n",
       "      <td>H</td>\n",
       "      <td>A Madley</td>\n",
       "      <td>11.00</td>\n",
       "      <td>6.0</td>\n",
       "      <td>1.25</td>\n",
       "      <td>1</td>\n",
       "    </tr>\n",
       "    <tr>\n",
       "      <th>2</th>\n",
       "      <td>06/08/2022</td>\n",
       "      <td>15:00</td>\n",
       "      <td>Bournemouth</td>\n",
       "      <td>Aston Villa</td>\n",
       "      <td>18</td>\n",
       "      <td>14</td>\n",
       "      <td>2</td>\n",
       "      <td>0</td>\n",
       "      <td>H</td>\n",
       "      <td>1</td>\n",
       "      <td>0</td>\n",
       "      <td>H</td>\n",
       "      <td>P Bankes</td>\n",
       "      <td>3.75</td>\n",
       "      <td>3.5</td>\n",
       "      <td>2.00</td>\n",
       "      <td>1</td>\n",
       "    </tr>\n",
       "    <tr>\n",
       "      <th>3</th>\n",
       "      <td>06/08/2022</td>\n",
       "      <td>15:00</td>\n",
       "      <td>Leeds</td>\n",
       "      <td>Wolves</td>\n",
       "      <td>17</td>\n",
       "      <td>10</td>\n",
       "      <td>2</td>\n",
       "      <td>1</td>\n",
       "      <td>H</td>\n",
       "      <td>1</td>\n",
       "      <td>1</td>\n",
       "      <td>D</td>\n",
       "      <td>R Jones</td>\n",
       "      <td>2.25</td>\n",
       "      <td>3.4</td>\n",
       "      <td>3.20</td>\n",
       "      <td>0</td>\n",
       "    </tr>\n",
       "    <tr>\n",
       "      <th>4</th>\n",
       "      <td>06/08/2022</td>\n",
       "      <td>15:00</td>\n",
       "      <td>Newcastle</td>\n",
       "      <td>Nott'm Forest</td>\n",
       "      <td>11</td>\n",
       "      <td>18</td>\n",
       "      <td>2</td>\n",
       "      <td>0</td>\n",
       "      <td>H</td>\n",
       "      <td>0</td>\n",
       "      <td>0</td>\n",
       "      <td>D</td>\n",
       "      <td>S Hooper</td>\n",
       "      <td>1.66</td>\n",
       "      <td>3.8</td>\n",
       "      <td>5.25</td>\n",
       "      <td>0</td>\n",
       "    </tr>\n",
       "  </tbody>\n",
       "</table>\n",
       "</div>"
      ],
      "text/plain": [
       "         Date   Time        HomeTeam       AwayTeam  H_Ranking_Prior_Season  \\\n",
       "0  05/08/2022  20:00  Crystal Palace        Arsenal                      12   \n",
       "1  06/08/2022  12:30          Fulham      Liverpool                      18   \n",
       "2  06/08/2022  15:00     Bournemouth    Aston Villa                      18   \n",
       "3  06/08/2022  15:00           Leeds         Wolves                      17   \n",
       "4  06/08/2022  15:00       Newcastle  Nott'm Forest                      11   \n",
       "\n",
       "   A_Ranking_Prior_Season  FTHG  FTAG FTR  HTHG  HTAG HTR   Referee  B365H  \\\n",
       "0                       5     0     2   A     0     1   A  A Taylor   4.20   \n",
       "1                       2     2     2   D     1     0   H  A Madley  11.00   \n",
       "2                      14     2     0   H     1     0   H  P Bankes   3.75   \n",
       "3                      10     2     1   H     1     1   D   R Jones   2.25   \n",
       "4                      18     2     0   H     0     0   D  S Hooper   1.66   \n",
       "\n",
       "   B365D  B365A  half_time_GD  \n",
       "0    3.6   1.85            -1  \n",
       "1    6.0   1.25             1  \n",
       "2    3.5   2.00             1  \n",
       "3    3.4   3.20             0  \n",
       "4    3.8   5.25             0  "
      ]
     },
     "execution_count": 14,
     "metadata": {},
     "output_type": "execute_result"
    }
   ],
   "source": [
    "df.head()"
   ]
  },
  {
   "cell_type": "code",
   "execution_count": 15,
   "id": "8473050c",
   "metadata": {},
   "outputs": [
    {
     "data": {
      "text/plain": [
       "Text(0, 0.5, 'Home team goals (full time)')"
      ]
     },
     "execution_count": 15,
     "metadata": {},
     "output_type": "execute_result"
    },
    {
     "data": {
      "image/png": "[encoded data removed]",
      "text/plain": [
       "<Figure size 640x480 with 1 Axes>"
      ]
     },
     "metadata": {},
     "output_type": "display_data"
    }
   ],
   "source": [
    "fig = plt.figure()\n",
    "ax = fig.add_subplot(1,1,1)\n",
    "ax.scatter(x = df['B365H'], y = df['FTHG'])\n",
    "ax.set_xlabel('Betting 365 odds for home team')\n",
    "ax.set_ylabel('Home team goals (full time)')"
   ]
  },
  {
   "cell_type": "markdown",
   "id": "3e640fd2",
   "metadata": {},
   "source": [
    "There is no significant correlation between these two varibles but some trend is evident."
   ]
  },
  {
   "cell_type": "code",
   "execution_count": 16,
   "id": "02250db1",
   "metadata": {},
   "outputs": [
    {
     "name": "stderr",
     "output_type": "stream",
     "text": [
      "C:\\Users\\CHARLES\\AppData\\Local\\Temp\\ipykernel_10596\\3652049629.py:2: SettingWithCopyWarning: \n",
      "A value is trying to be set on a copy of a slice from a DataFrame.\n",
      "Try using .loc[row_indexer,col_indexer] = value instead\n",
      "\n",
      "See the caveats in the documentation: https://pandas.pydata.org/pandas-docs/stable/user_guide/indexing.html#returning-a-view-versus-a-copy\n",
      "  df['full_time_GD'] = df['FTHG'] - df['FTAG']\n"
     ]
    },
    {
     "data": {
      "image/png": "[encoded data removed]",
      "text/plain": [
       "<Figure size 640x480 with 1 Axes>"
      ]
     },
     "metadata": {},
     "output_type": "display_data"
    }
   ],
   "source": [
    "# Variable creation (point difference at full tim: Home Goals - Away Goals)\n",
    "df['full_time_GD'] = df['FTHG'] - df['FTAG']\n",
    "\n",
    "# How predictive the goal difference is of final outcome\n",
    "sns.histplot(x=df['full_time_GD'], bins=10)\n",
    "plt.title(\"The Histogram of {}\".format(\"full_time_GD\"))\n",
    "plt.show()"
   ]
  },
  {
   "cell_type": "markdown",
   "id": "65598c08",
   "metadata": {},
   "source": [
    "The goal difference lies between -2 and 3 at full time."
   ]
  },
  {
   "cell_type": "code",
   "execution_count": 17,
   "id": "9b023cf0",
   "metadata": {},
   "outputs": [
    {
     "data": {
      "text/plain": [
       "Text(0, 0.5, 'Full time goal difference (home - away)')"
      ]
     },
     "execution_count": 17,
     "metadata": {},
     "output_type": "execute_result"
    },
    {
     "data": {
      "image/png": "[encoded data removed]",
      "text/plain": [
       "<Figure size 640x480 with 1 Axes>"
      ]
     },
     "metadata": {},
     "output_type": "display_data"
    }
   ],
   "source": [
    "fig = plt.figure()\n",
    "ax = fig.add_subplot(1,1,1)\n",
    "ax.scatter(x = df['B365H'], y = df['full_time_GD'])\n",
    "ax.set_xlabel('Betting odds for home team')\n",
    "ax.set_ylabel('Full time goal difference (home - away)')"
   ]
  },
  {
   "cell_type": "code",
   "execution_count": 18,
   "id": "948a9cfc",
   "metadata": {},
   "outputs": [
    {
     "data": {
      "text/plain": [
       "Text(0, 0.5, 'Full time goal difference (home - away)')"
      ]
     },
     "execution_count": 18,
     "metadata": {},
     "output_type": "execute_result"
    },
    {
     "data": {
      "image/png": "[encoded data removed]",
      "text/plain": [
       "<Figure size 640x480 with 1 Axes>"
      ]
     },
     "metadata": {},
     "output_type": "display_data"
    }
   ],
   "source": [
    "fig = plt.figure()\n",
    "ax = fig.add_subplot(1,1,1)\n",
    "ax.scatter(x = df['A_Ranking_Prior_Season'], y = df['full_time_GD'])\n",
    "ax.set_xlabel('Prior Season Ranking')\n",
    "ax.set_ylabel('Full time goal difference (home - away)')"
   ]
  },
  {
   "cell_type": "markdown",
   "id": "72968bdb",
   "metadata": {},
   "source": [
    "## The Target and Predictor Variables"
   ]
  },
  {
   "cell_type": "code",
   "execution_count": 19,
   "id": "7305059a",
   "metadata": {},
   "outputs": [],
   "source": [
    "X = df.drop(columns = ['Date', 'Time', 'Referee', 'FTR', 'FTHG', 'FTAG', 'full_time_GD'])\n",
    "y = df['FTR'] # target variable (winning team)"
   ]
  },
  {
   "cell_type": "markdown",
   "id": "82adddcb",
   "metadata": {},
   "source": [
    "## One-Hot Encoding"
   ]
  },
  {
   "cell_type": "code",
   "execution_count": 20,
   "id": "053808a5",
   "metadata": {},
   "outputs": [
    {
     "data": {
      "text/html": [
       "<div>\n",
       "<style scoped>\n",
       "    .dataframe tbody tr th:only-of-type {\n",
       "        vertical-align: middle;\n",
       "    }\n",
       "\n",
       "    .dataframe tbody tr th {\n",
       "        vertical-align: top;\n",
       "    }\n",
       "\n",
       "    .dataframe thead th {\n",
       "        text-align: right;\n",
       "    }\n",
       "</style>\n",
       "<table border=\"1\" class=\"dataframe\">\n",
       "  <thead>\n",
       "    <tr style=\"text-align: right;\">\n",
       "      <th></th>\n",
       "      <th>H_Ranking_Prior_Season</th>\n",
       "      <th>A_Ranking_Prior_Season</th>\n",
       "      <th>HTHG</th>\n",
       "      <th>HTAG</th>\n",
       "      <th>HTR</th>\n",
       "      <th>B365H</th>\n",
       "      <th>B365D</th>\n",
       "      <th>B365A</th>\n",
       "      <th>half_time_GD</th>\n",
       "      <th>HomeTeam_Arsenal</th>\n",
       "      <th>...</th>\n",
       "      <th>AwayTeam_Leicester</th>\n",
       "      <th>AwayTeam_Liverpool</th>\n",
       "      <th>AwayTeam_Man City</th>\n",
       "      <th>AwayTeam_Man United</th>\n",
       "      <th>AwayTeam_Newcastle</th>\n",
       "      <th>AwayTeam_Nott'm Forest</th>\n",
       "      <th>AwayTeam_Southampton</th>\n",
       "      <th>AwayTeam_Tottenham</th>\n",
       "      <th>AwayTeam_West Ham</th>\n",
       "      <th>AwayTeam_Wolves</th>\n",
       "    </tr>\n",
       "  </thead>\n",
       "  <tbody>\n",
       "    <tr>\n",
       "      <th>0</th>\n",
       "      <td>12</td>\n",
       "      <td>5</td>\n",
       "      <td>0</td>\n",
       "      <td>1</td>\n",
       "      <td>A</td>\n",
       "      <td>4.20</td>\n",
       "      <td>3.6</td>\n",
       "      <td>1.85</td>\n",
       "      <td>-1</td>\n",
       "      <td>0</td>\n",
       "      <td>...</td>\n",
       "      <td>0</td>\n",
       "      <td>0</td>\n",
       "      <td>0</td>\n",
       "      <td>0</td>\n",
       "      <td>0</td>\n",
       "      <td>0</td>\n",
       "      <td>0</td>\n",
       "      <td>0</td>\n",
       "      <td>0</td>\n",
       "      <td>0</td>\n",
       "    </tr>\n",
       "    <tr>\n",
       "      <th>1</th>\n",
       "      <td>18</td>\n",
       "      <td>2</td>\n",
       "      <td>1</td>\n",
       "      <td>0</td>\n",
       "      <td>H</td>\n",
       "      <td>11.00</td>\n",
       "      <td>6.0</td>\n",
       "      <td>1.25</td>\n",
       "      <td>1</td>\n",
       "      <td>0</td>\n",
       "      <td>...</td>\n",
       "      <td>0</td>\n",
       "      <td>1</td>\n",
       "      <td>0</td>\n",
       "      <td>0</td>\n",
       "      <td>0</td>\n",
       "      <td>0</td>\n",
       "      <td>0</td>\n",
       "      <td>0</td>\n",
       "      <td>0</td>\n",
       "      <td>0</td>\n",
       "    </tr>\n",
       "    <tr>\n",
       "      <th>2</th>\n",
       "      <td>18</td>\n",
       "      <td>14</td>\n",
       "      <td>1</td>\n",
       "      <td>0</td>\n",
       "      <td>H</td>\n",
       "      <td>3.75</td>\n",
       "      <td>3.5</td>\n",
       "      <td>2.00</td>\n",
       "      <td>1</td>\n",
       "      <td>0</td>\n",
       "      <td>...</td>\n",
       "      <td>0</td>\n",
       "      <td>0</td>\n",
       "      <td>0</td>\n",
       "      <td>0</td>\n",
       "      <td>0</td>\n",
       "      <td>0</td>\n",
       "      <td>0</td>\n",
       "      <td>0</td>\n",
       "      <td>0</td>\n",
       "      <td>0</td>\n",
       "    </tr>\n",
       "    <tr>\n",
       "      <th>3</th>\n",
       "      <td>17</td>\n",
       "      <td>10</td>\n",
       "      <td>1</td>\n",
       "      <td>1</td>\n",
       "      <td>D</td>\n",
       "      <td>2.25</td>\n",
       "      <td>3.4</td>\n",
       "      <td>3.20</td>\n",
       "      <td>0</td>\n",
       "      <td>0</td>\n",
       "      <td>...</td>\n",
       "      <td>0</td>\n",
       "      <td>0</td>\n",
       "      <td>0</td>\n",
       "      <td>0</td>\n",
       "      <td>0</td>\n",
       "      <td>0</td>\n",
       "      <td>0</td>\n",
       "      <td>0</td>\n",
       "      <td>0</td>\n",
       "      <td>1</td>\n",
       "    </tr>\n",
       "    <tr>\n",
       "      <th>4</th>\n",
       "      <td>11</td>\n",
       "      <td>18</td>\n",
       "      <td>0</td>\n",
       "      <td>0</td>\n",
       "      <td>D</td>\n",
       "      <td>1.66</td>\n",
       "      <td>3.8</td>\n",
       "      <td>5.25</td>\n",
       "      <td>0</td>\n",
       "      <td>0</td>\n",
       "      <td>...</td>\n",
       "      <td>0</td>\n",
       "      <td>0</td>\n",
       "      <td>0</td>\n",
       "      <td>0</td>\n",
       "      <td>0</td>\n",
       "      <td>1</td>\n",
       "      <td>0</td>\n",
       "      <td>0</td>\n",
       "      <td>0</td>\n",
       "      <td>0</td>\n",
       "    </tr>\n",
       "  </tbody>\n",
       "</table>\n",
       "<p>5 rows × 49 columns</p>\n",
       "</div>"
      ],
      "text/plain": [
       "   H_Ranking_Prior_Season  A_Ranking_Prior_Season  HTHG  HTAG HTR  B365H  \\\n",
       "0                      12                       5     0     1   A   4.20   \n",
       "1                      18                       2     1     0   H  11.00   \n",
       "2                      18                      14     1     0   H   3.75   \n",
       "3                      17                      10     1     1   D   2.25   \n",
       "4                      11                      18     0     0   D   1.66   \n",
       "\n",
       "   B365D  B365A  half_time_GD  HomeTeam_Arsenal  ...  AwayTeam_Leicester  \\\n",
       "0    3.6   1.85            -1                 0  ...                   0   \n",
       "1    6.0   1.25             1                 0  ...                   0   \n",
       "2    3.5   2.00             1                 0  ...                   0   \n",
       "3    3.4   3.20             0                 0  ...                   0   \n",
       "4    3.8   5.25             0                 0  ...                   0   \n",
       "\n",
       "   AwayTeam_Liverpool  AwayTeam_Man City  AwayTeam_Man United  \\\n",
       "0                   0                  0                    0   \n",
       "1                   1                  0                    0   \n",
       "2                   0                  0                    0   \n",
       "3                   0                  0                    0   \n",
       "4                   0                  0                    0   \n",
       "\n",
       "   AwayTeam_Newcastle  AwayTeam_Nott'm Forest  AwayTeam_Southampton  \\\n",
       "0                   0                       0                     0   \n",
       "1                   0                       0                     0   \n",
       "2                   0                       0                     0   \n",
       "3                   0                       0                     0   \n",
       "4                   0                       1                     0   \n",
       "\n",
       "   AwayTeam_Tottenham  AwayTeam_West Ham  AwayTeam_Wolves  \n",
       "0                   0                  0                0  \n",
       "1                   0                  0                0  \n",
       "2                   0                  0                0  \n",
       "3                   0                  0                1  \n",
       "4                   0                  0                0  \n",
       "\n",
       "[5 rows x 49 columns]"
      ]
     },
     "execution_count": 20,
     "metadata": {},
     "output_type": "execute_result"
    }
   ],
   "source": [
    "# Function to one-hot encode categorical variables\n",
    "def encode_and_bind(original_dataframe, feature_to_encode):\n",
    "    \"\"\"\n",
    "    Function for one-hot encoding, takes dataframe and features to encode\n",
    "    returns one-hot encoded dataframe\n",
    "    \"\"\"\n",
    "    dummies = pd.get_dummies(original_dataframe[[feature_to_encode]])\n",
    "    dummies = dummies.astype(int)\n",
    "    res = pd.concat([original_dataframe, dummies], axis=1)\n",
    "    res = res.drop([feature_to_encode], axis=1)\n",
    "    return(res)\n",
    "\n",
    "\n",
    "# features to one-hot encode\n",
    "features_to_encode = ['HomeTeam', 'AwayTeam']\n",
    "\n",
    "for feature in features_to_encode:\n",
    "    X = encode_and_bind(X, feature)\n",
    "\n",
    "# one-hot encoding results\n",
    "X.head()"
   ]
  },
  {
   "cell_type": "markdown",
   "id": "ddb73f29",
   "metadata": {},
   "source": [
    "## Data Splitting"
   ]
  },
  {
   "cell_type": "code",
   "execution_count": 21,
   "id": "4dd50b38",
   "metadata": {},
   "outputs": [
    {
     "name": "stdout",
     "output_type": "stream",
     "text": [
      "X_train shape: (266, 49)\n",
      "X_test shape: (114, 49)\n",
      "y_train shape: (266,)\n",
      "y_test shape: (114,)\n"
     ]
    }
   ],
   "source": [
    "from sklearn.model_selection import train_test_split\n",
    "X_train, X_test, y_train, y_test = train_test_split(X, y, test_size=0.3, random_state=0)\n",
    "\n",
    "print(\"X_train shape:\",X_train.shape)\n",
    "print(\"X_test shape:\",X_test.shape)\n",
    "print(\"y_train shape:\",y_train.shape)\n",
    "print(\"y_test shape:\",y_test.shape)"
   ]
  },
  {
   "cell_type": "markdown",
   "id": "546eec4d",
   "metadata": {},
   "source": [
    "## Model Building"
   ]
  },
  {
   "cell_type": "markdown",
   "id": "6f9b2ab0",
   "metadata": {},
   "source": [
    "### i) Baseline Model"
   ]
  },
  {
   "cell_type": "code",
   "execution_count": 23,
   "id": "4c21ff75",
   "metadata": {},
   "outputs": [],
   "source": [
    "## Baseline model\n",
    "### Using half time results to predict full time (e.g. if half time winning, then predict full time winning)\n",
    "\n",
    "# make predictions\n",
    "y_pred_train = X_train['HTR']\n",
    "y_pred_test = X_test['HTR']"
   ]
  },
  {
   "cell_type": "code",
   "execution_count": 24,
   "id": "6aba40ae",
   "metadata": {},
   "outputs": [
    {
     "name": "stdout",
     "output_type": "stream",
     "text": [
      "Accuracy on Train data:  0.594\n",
      "Accuracy on Test data:  0.623\n"
     ]
    }
   ],
   "source": [
    "from sklearn.metrics import accuracy_score\n",
    "\n",
    "print(\"Accuracy on Train data: \", round(accuracy_score(y_pred_train, y_train), 3))\n",
    "print(\"Accuracy on Test data: \", round(accuracy_score(y_pred_test, y_test), 3))"
   ]
  },
  {
   "cell_type": "markdown",
   "id": "3e2c80d9",
   "metadata": {},
   "source": [
    "### ii) Logistic Regression Model"
   ]
  },
  {
   "cell_type": "code",
   "execution_count": 25,
   "id": "6d31fd12",
   "metadata": {},
   "outputs": [],
   "source": [
    "from sklearn.linear_model import LogisticRegression"
   ]
  },
  {
   "cell_type": "code",
   "execution_count": 26,
   "id": "859c5749",
   "metadata": {},
   "outputs": [
    {
     "data": {
      "text/html": [
       "<div>\n",
       "<style scoped>\n",
       "    .dataframe tbody tr th:only-of-type {\n",
       "        vertical-align: middle;\n",
       "    }\n",
       "\n",
       "    .dataframe tbody tr th {\n",
       "        vertical-align: top;\n",
       "    }\n",
       "\n",
       "    .dataframe thead th {\n",
       "        text-align: right;\n",
       "    }\n",
       "</style>\n",
       "<table border=\"1\" class=\"dataframe\">\n",
       "  <thead>\n",
       "    <tr style=\"text-align: right;\">\n",
       "      <th></th>\n",
       "      <th>H_Ranking_Prior_Season</th>\n",
       "      <th>A_Ranking_Prior_Season</th>\n",
       "      <th>HTHG</th>\n",
       "      <th>HTAG</th>\n",
       "      <th>B365H</th>\n",
       "      <th>B365D</th>\n",
       "      <th>B365A</th>\n",
       "      <th>half_time_GD</th>\n",
       "      <th>HomeTeam_Arsenal</th>\n",
       "      <th>HomeTeam_Aston Villa</th>\n",
       "      <th>...</th>\n",
       "      <th>AwayTeam_Man United</th>\n",
       "      <th>AwayTeam_Newcastle</th>\n",
       "      <th>AwayTeam_Nott'm Forest</th>\n",
       "      <th>AwayTeam_Southampton</th>\n",
       "      <th>AwayTeam_Tottenham</th>\n",
       "      <th>AwayTeam_West Ham</th>\n",
       "      <th>AwayTeam_Wolves</th>\n",
       "      <th>HTR_A</th>\n",
       "      <th>HTR_D</th>\n",
       "      <th>HTR_H</th>\n",
       "    </tr>\n",
       "  </thead>\n",
       "  <tbody>\n",
       "    <tr>\n",
       "      <th>170</th>\n",
       "      <td>6</td>\n",
       "      <td>18</td>\n",
       "      <td>1</td>\n",
       "      <td>0</td>\n",
       "      <td>1.29</td>\n",
       "      <td>5.50</td>\n",
       "      <td>11.00</td>\n",
       "      <td>1</td>\n",
       "      <td>0</td>\n",
       "      <td>0</td>\n",
       "      <td>...</td>\n",
       "      <td>0</td>\n",
       "      <td>0</td>\n",
       "      <td>0</td>\n",
       "      <td>0</td>\n",
       "      <td>0</td>\n",
       "      <td>0</td>\n",
       "      <td>0</td>\n",
       "      <td>0</td>\n",
       "      <td>0</td>\n",
       "      <td>1</td>\n",
       "    </tr>\n",
       "    <tr>\n",
       "      <th>308</th>\n",
       "      <td>13</td>\n",
       "      <td>14</td>\n",
       "      <td>0</td>\n",
       "      <td>0</td>\n",
       "      <td>2.50</td>\n",
       "      <td>3.25</td>\n",
       "      <td>2.88</td>\n",
       "      <td>0</td>\n",
       "      <td>0</td>\n",
       "      <td>0</td>\n",
       "      <td>...</td>\n",
       "      <td>0</td>\n",
       "      <td>0</td>\n",
       "      <td>0</td>\n",
       "      <td>0</td>\n",
       "      <td>0</td>\n",
       "      <td>0</td>\n",
       "      <td>0</td>\n",
       "      <td>0</td>\n",
       "      <td>1</td>\n",
       "      <td>0</td>\n",
       "    </tr>\n",
       "    <tr>\n",
       "      <th>212</th>\n",
       "      <td>12</td>\n",
       "      <td>9</td>\n",
       "      <td>0</td>\n",
       "      <td>0</td>\n",
       "      <td>3.80</td>\n",
       "      <td>3.50</td>\n",
       "      <td>2.00</td>\n",
       "      <td>0</td>\n",
       "      <td>0</td>\n",
       "      <td>0</td>\n",
       "      <td>...</td>\n",
       "      <td>0</td>\n",
       "      <td>0</td>\n",
       "      <td>0</td>\n",
       "      <td>0</td>\n",
       "      <td>0</td>\n",
       "      <td>0</td>\n",
       "      <td>0</td>\n",
       "      <td>0</td>\n",
       "      <td>1</td>\n",
       "      <td>0</td>\n",
       "    </tr>\n",
       "    <tr>\n",
       "      <th>17</th>\n",
       "      <td>18</td>\n",
       "      <td>7</td>\n",
       "      <td>1</td>\n",
       "      <td>0</td>\n",
       "      <td>4.20</td>\n",
       "      <td>3.60</td>\n",
       "      <td>1.85</td>\n",
       "      <td>1</td>\n",
       "      <td>0</td>\n",
       "      <td>0</td>\n",
       "      <td>...</td>\n",
       "      <td>0</td>\n",
       "      <td>0</td>\n",
       "      <td>0</td>\n",
       "      <td>0</td>\n",
       "      <td>0</td>\n",
       "      <td>1</td>\n",
       "      <td>0</td>\n",
       "      <td>0</td>\n",
       "      <td>0</td>\n",
       "      <td>1</td>\n",
       "    </tr>\n",
       "    <tr>\n",
       "      <th>234</th>\n",
       "      <td>8</td>\n",
       "      <td>5</td>\n",
       "      <td>0</td>\n",
       "      <td>0</td>\n",
       "      <td>4.75</td>\n",
       "      <td>4.00</td>\n",
       "      <td>1.70</td>\n",
       "      <td>0</td>\n",
       "      <td>0</td>\n",
       "      <td>0</td>\n",
       "      <td>...</td>\n",
       "      <td>0</td>\n",
       "      <td>0</td>\n",
       "      <td>0</td>\n",
       "      <td>0</td>\n",
       "      <td>0</td>\n",
       "      <td>0</td>\n",
       "      <td>0</td>\n",
       "      <td>0</td>\n",
       "      <td>1</td>\n",
       "      <td>0</td>\n",
       "    </tr>\n",
       "  </tbody>\n",
       "</table>\n",
       "<p>5 rows × 51 columns</p>\n",
       "</div>"
      ],
      "text/plain": [
       "     H_Ranking_Prior_Season  A_Ranking_Prior_Season  HTHG  HTAG  B365H  B365D  \\\n",
       "170                       6                      18     1     0   1.29   5.50   \n",
       "308                      13                      14     0     0   2.50   3.25   \n",
       "212                      12                       9     0     0   3.80   3.50   \n",
       "17                       18                       7     1     0   4.20   3.60   \n",
       "234                       8                       5     0     0   4.75   4.00   \n",
       "\n",
       "     B365A  half_time_GD  HomeTeam_Arsenal  HomeTeam_Aston Villa  ...  \\\n",
       "170  11.00             1                 0                     0  ...   \n",
       "308   2.88             0                 0                     0  ...   \n",
       "212   2.00             0                 0                     0  ...   \n",
       "17    1.85             1                 0                     0  ...   \n",
       "234   1.70             0                 0                     0  ...   \n",
       "\n",
       "     AwayTeam_Man United  AwayTeam_Newcastle  AwayTeam_Nott'm Forest  \\\n",
       "170                    0                   0                       0   \n",
       "308                    0                   0                       0   \n",
       "212                    0                   0                       0   \n",
       "17                     0                   0                       0   \n",
       "234                    0                   0                       0   \n",
       "\n",
       "     AwayTeam_Southampton  AwayTeam_Tottenham  AwayTeam_West Ham  \\\n",
       "170                     0                   0                  0   \n",
       "308                     0                   0                  0   \n",
       "212                     0                   0                  0   \n",
       "17                      0                   0                  1   \n",
       "234                     0                   0                  0   \n",
       "\n",
       "     AwayTeam_Wolves  HTR_A  HTR_D  HTR_H  \n",
       "170                0      0      0      1  \n",
       "308                0      0      1      0  \n",
       "212                0      0      1      0  \n",
       "17                 0      0      0      1  \n",
       "234                0      0      1      0  \n",
       "\n",
       "[5 rows x 51 columns]"
      ]
     },
     "execution_count": 26,
     "metadata": {},
     "output_type": "execute_result"
    }
   ],
   "source": [
    "features_to_encode = [\"HTR\"]\n",
    "\n",
    "for feature in features_to_encode:\n",
    "    X_train = encode_and_bind(X_train, feature)\n",
    "\n",
    "for feature in features_to_encode:\n",
    "    X_test = encode_and_bind(X_test, feature)\n",
    "\n",
    "# one-hot encoding results\n",
    "X_train.head()"
   ]
  },
  {
   "cell_type": "code",
   "execution_count": 27,
   "id": "5619a1cd",
   "metadata": {},
   "outputs": [
    {
     "data": {
      "text/html": [
       "<style>#sk-container-id-1 {color: black;}#sk-container-id-1 pre{padding: 0;}#sk-container-id-1 div.sk-toggleable {background-color: white;}#sk-container-id-1 label.sk-toggleable__label {cursor: pointer;display: block;width: 100%;margin-bottom: 0;padding: 0.3em;box-sizing: border-box;text-align: center;}#sk-container-id-1 label.sk-toggleable__label-arrow:before {content: \"▸\";float: left;margin-right: 0.25em;color: #696969;}#sk-container-id-1 label.sk-toggleable__label-arrow:hover:before {color: black;}#sk-container-id-1 div.sk-estimator:hover label.sk-toggleable__label-arrow:before {color: black;}#sk-container-id-1 div.sk-toggleable__content {max-height: 0;max-width: 0;overflow: hidden;text-align: left;background-color: #f0f8ff;}#sk-container-id-1 div.sk-toggleable__content pre {margin: 0.2em;color: black;border-radius: 0.25em;background-color: #f0f8ff;}#sk-container-id-1 input.sk-toggleable__control:checked~div.sk-toggleable__content {max-height: 200px;max-width: 100%;overflow: auto;}#sk-container-id-1 input.sk-toggleable__control:checked~label.sk-toggleable__label-arrow:before {content: \"▾\";}#sk-container-id-1 div.sk-estimator input.sk-toggleable__control:checked~label.sk-toggleable__label {background-color: #d4ebff;}#sk-container-id-1 div.sk-label input.sk-toggleable__control:checked~label.sk-toggleable__label {background-color: #d4ebff;}#sk-container-id-1 input.sk-hidden--visually {border: 0;clip: rect(1px 1px 1px 1px);clip: rect(1px, 1px, 1px, 1px);height: 1px;margin: -1px;overflow: hidden;padding: 0;position: absolute;width: 1px;}#sk-container-id-1 div.sk-estimator {font-family: monospace;background-color: #f0f8ff;border: 1px dotted black;border-radius: 0.25em;box-sizing: border-box;margin-bottom: 0.5em;}#sk-container-id-1 div.sk-estimator:hover {background-color: #d4ebff;}#sk-container-id-1 div.sk-parallel-item::after {content: \"\";width: 100%;border-bottom: 1px solid gray;flex-grow: 1;}#sk-container-id-1 div.sk-label:hover label.sk-toggleable__label {background-color: #d4ebff;}#sk-container-id-1 div.sk-serial::before {content: \"\";position: absolute;border-left: 1px solid gray;box-sizing: border-box;top: 0;bottom: 0;left: 50%;z-index: 0;}#sk-container-id-1 div.sk-serial {display: flex;flex-direction: column;align-items: center;background-color: white;padding-right: 0.2em;padding-left: 0.2em;position: relative;}#sk-container-id-1 div.sk-item {position: relative;z-index: 1;}#sk-container-id-1 div.sk-parallel {display: flex;align-items: stretch;justify-content: center;background-color: white;position: relative;}#sk-container-id-1 div.sk-item::before, #sk-container-id-1 div.sk-parallel-item::before {content: \"\";position: absolute;border-left: 1px solid gray;box-sizing: border-box;top: 0;bottom: 0;left: 50%;z-index: -1;}#sk-container-id-1 div.sk-parallel-item {display: flex;flex-direction: column;z-index: 1;position: relative;background-color: white;}#sk-container-id-1 div.sk-parallel-item:first-child::after {align-self: flex-end;width: 50%;}#sk-container-id-1 div.sk-parallel-item:last-child::after {align-self: flex-start;width: 50%;}#sk-container-id-1 div.sk-parallel-item:only-child::after {width: 0;}#sk-container-id-1 div.sk-dashed-wrapped {border: 1px dashed gray;margin: 0 0.4em 0.5em 0.4em;box-sizing: border-box;padding-bottom: 0.4em;background-color: white;}#sk-container-id-1 div.sk-label label {font-family: monospace;font-weight: bold;display: inline-block;line-height: 1.2em;}#sk-container-id-1 div.sk-label-container {text-align: center;}#sk-container-id-1 div.sk-container {/* jupyter's `normalize.less` sets `[hidden] { display: none; }` but bootstrap.min.css set `[hidden] { display: none !important; }` so we also need the `!important` here to be able to override the default hidden behavior on the sphinx rendered scikit-learn.org. See: https://github.com/scikit-learn/scikit-learn/issues/21755 */display: inline-block !important;position: relative;}#sk-container-id-1 div.sk-text-repr-fallback {display: none;}</style><div id=\"sk-container-id-1\" class=\"sk-top-container\"><div class=\"sk-text-repr-fallback\"><pre>LogisticRegression(max_iter=1000)</pre><b>In a Jupyter environment, please rerun this cell to show the HTML representation or trust the notebook. <br />On GitHub, the HTML representation is unable to render, please try loading this page with nbviewer.org.</b></div><div class=\"sk-container\" hidden><div class=\"sk-item\"><div class=\"sk-estimator sk-toggleable\"><input class=\"sk-toggleable__control sk-hidden--visually\" id=\"sk-estimator-id-1\" type=\"checkbox\" checked><label for=\"sk-estimator-id-1\" class=\"sk-toggleable__label sk-toggleable__label-arrow\">LogisticRegression</label><div class=\"sk-toggleable__content\"><pre>LogisticRegression(max_iter=1000)</pre></div></div></div></div></div>"
      ],
      "text/plain": [
       "LogisticRegression(max_iter=1000)"
      ]
     },
     "execution_count": 27,
     "metadata": {},
     "output_type": "execute_result"
    }
   ],
   "source": [
    "logit = LogisticRegression(max_iter=1000)\n",
    "logit.fit(X_train, y_train)"
   ]
  },
  {
   "cell_type": "code",
   "execution_count": 29,
   "id": "c4a9a15a",
   "metadata": {},
   "outputs": [
    {
     "name": "stdout",
     "output_type": "stream",
     "text": [
      "Logistic regression accuracy on train set:  0.718\n",
      "Logistic regression accuracy on test set:  0.579\n"
     ]
    }
   ],
   "source": [
    "print('Logistic regression accuracy on train set: ', round(logit.score(X_train,y_train),3))\n",
    "print('Logistic regression accuracy on test set: ', round(logit.score(X_test,y_test),3))"
   ]
  },
  {
   "cell_type": "markdown",
   "id": "8da8b2a0",
   "metadata": {},
   "source": [
    "We see evidence of overfitting since the model performs better on the training set but poorly on the testing set."
   ]
  },
  {
   "cell_type": "markdown",
   "id": "6e81ce1f",
   "metadata": {},
   "source": [
    "#### Hyperparameter tuning"
   ]
  },
  {
   "cell_type": "code",
   "execution_count": 33,
   "id": "c22b38ed",
   "metadata": {},
   "outputs": [],
   "source": [
    "# storage parameters\n",
    "train_accuracies = []\n",
    "test_accuracies = []\n",
    "c_vals = np.logspace(-7, -2.5, num=100) # penalty parameters to test\n",
    "\n",
    "# Hyperparameter tuning for loop\n",
    "for c_val in c_vals:\n",
    "    # fit model on training data\n",
    "    logit_tuned = LogisticRegression(penalty = 'l2', C = c_val)\n",
    "    logit_tuned.fit(X_train, y_train)\n",
    "    \n",
    "    # store train and test accuracies\n",
    "    train_accuracies.append(logit_tuned.score(X_train,y_train))\n",
    "    test_accuracies.append(logit_tuned.score(X_test,y_test))"
   ]
  },
  {
   "cell_type": "code",
   "execution_count": 35,
   "id": "f9388259",
   "metadata": {},
   "outputs": [
    {
     "data": {
      "text/plain": [
       "<matplotlib.legend.Legend at 0x21726596550>"
      ]
     },
     "execution_count": 35,
     "metadata": {},
     "output_type": "execute_result"
    },
    {
     "data": {
      "image/png": "[encoded data removed]",
      "text/plain": [
       "<Figure size 640x480 with 1 Axes>"
      ]
     },
     "metadata": {},
     "output_type": "display_data"
    }
   ],
   "source": [
    "# plot train and test accuracies\n",
    "fig = plt.figure()\n",
    "ax = fig.add_subplot(1,1,1)\n",
    "ax.plot(c_vals, train_accuracies, label = 'train')\n",
    "ax.plot(c_vals, test_accuracies, label = 'test')\n",
    "ax.set_xlabel(\"Values of Tuning Parameter (C)\")\n",
    "ax.set_ylabel(\"Accuracy\")\n",
    "ax.legend(loc = 'best')"
   ]
  },
  {
   "cell_type": "code",
   "execution_count": 36,
   "id": "6e1b299c",
   "metadata": {},
   "outputs": [
    {
     "name": "stdout",
     "output_type": "stream",
     "text": [
      "Maximum test accuracy:  0.614\n",
      "Value of C that achieves max test accuracy:  0.00316\n"
     ]
    }
   ],
   "source": [
    "## Determining maximizing C on test set\n",
    "print('Maximum test accuracy: ', np.round(test_accuracies[np.argmax(test_accuracies)], 3))\n",
    "print('Value of C that achieves max test accuracy: ', np.round(c_vals[np.argmax(test_accuracies)],5))"
   ]
  },
  {
   "cell_type": "markdown",
   "id": "fa4ed9f9",
   "metadata": {},
   "source": [
    "### iii) Decision Tree Model"
   ]
  },
  {
   "cell_type": "code",
   "execution_count": 38,
   "id": "c0658228",
   "metadata": {},
   "outputs": [
    {
     "data": {
      "text/html": [
       "<style>#sk-container-id-2 {color: black;}#sk-container-id-2 pre{padding: 0;}#sk-container-id-2 div.sk-toggleable {background-color: white;}#sk-container-id-2 label.sk-toggleable__label {cursor: pointer;display: block;width: 100%;margin-bottom: 0;padding: 0.3em;box-sizing: border-box;text-align: center;}#sk-container-id-2 label.sk-toggleable__label-arrow:before {content: \"▸\";float: left;margin-right: 0.25em;color: #696969;}#sk-container-id-2 label.sk-toggleable__label-arrow:hover:before {color: black;}#sk-container-id-2 div.sk-estimator:hover label.sk-toggleable__label-arrow:before {color: black;}#sk-container-id-2 div.sk-toggleable__content {max-height: 0;max-width: 0;overflow: hidden;text-align: left;background-color: #f0f8ff;}#sk-container-id-2 div.sk-toggleable__content pre {margin: 0.2em;color: black;border-radius: 0.25em;background-color: #f0f8ff;}#sk-container-id-2 input.sk-toggleable__control:checked~div.sk-toggleable__content {max-height: 200px;max-width: 100%;overflow: auto;}#sk-container-id-2 input.sk-toggleable__control:checked~label.sk-toggleable__label-arrow:before {content: \"▾\";}#sk-container-id-2 div.sk-estimator input.sk-toggleable__control:checked~label.sk-toggleable__label {background-color: #d4ebff;}#sk-container-id-2 div.sk-label input.sk-toggleable__control:checked~label.sk-toggleable__label {background-color: #d4ebff;}#sk-container-id-2 input.sk-hidden--visually {border: 0;clip: rect(1px 1px 1px 1px);clip: rect(1px, 1px, 1px, 1px);height: 1px;margin: -1px;overflow: hidden;padding: 0;position: absolute;width: 1px;}#sk-container-id-2 div.sk-estimator {font-family: monospace;background-color: #f0f8ff;border: 1px dotted black;border-radius: 0.25em;box-sizing: border-box;margin-bottom: 0.5em;}#sk-container-id-2 div.sk-estimator:hover {background-color: #d4ebff;}#sk-container-id-2 div.sk-parallel-item::after {content: \"\";width: 100%;border-bottom: 1px solid gray;flex-grow: 1;}#sk-container-id-2 div.sk-label:hover label.sk-toggleable__label {background-color: #d4ebff;}#sk-container-id-2 div.sk-serial::before {content: \"\";position: absolute;border-left: 1px solid gray;box-sizing: border-box;top: 0;bottom: 0;left: 50%;z-index: 0;}#sk-container-id-2 div.sk-serial {display: flex;flex-direction: column;align-items: center;background-color: white;padding-right: 0.2em;padding-left: 0.2em;position: relative;}#sk-container-id-2 div.sk-item {position: relative;z-index: 1;}#sk-container-id-2 div.sk-parallel {display: flex;align-items: stretch;justify-content: center;background-color: white;position: relative;}#sk-container-id-2 div.sk-item::before, #sk-container-id-2 div.sk-parallel-item::before {content: \"\";position: absolute;border-left: 1px solid gray;box-sizing: border-box;top: 0;bottom: 0;left: 50%;z-index: -1;}#sk-container-id-2 div.sk-parallel-item {display: flex;flex-direction: column;z-index: 1;position: relative;background-color: white;}#sk-container-id-2 div.sk-parallel-item:first-child::after {align-self: flex-end;width: 50%;}#sk-container-id-2 div.sk-parallel-item:last-child::after {align-self: flex-start;width: 50%;}#sk-container-id-2 div.sk-parallel-item:only-child::after {width: 0;}#sk-container-id-2 div.sk-dashed-wrapped {border: 1px dashed gray;margin: 0 0.4em 0.5em 0.4em;box-sizing: border-box;padding-bottom: 0.4em;background-color: white;}#sk-container-id-2 div.sk-label label {font-family: monospace;font-weight: bold;display: inline-block;line-height: 1.2em;}#sk-container-id-2 div.sk-label-container {text-align: center;}#sk-container-id-2 div.sk-container {/* jupyter's `normalize.less` sets `[hidden] { display: none; }` but bootstrap.min.css set `[hidden] { display: none !important; }` so we also need the `!important` here to be able to override the default hidden behavior on the sphinx rendered scikit-learn.org. See: https://github.com/scikit-learn/scikit-learn/issues/21755 */display: inline-block !important;position: relative;}#sk-container-id-2 div.sk-text-repr-fallback {display: none;}</style><div id=\"sk-container-id-2\" class=\"sk-top-container\"><div class=\"sk-text-repr-fallback\"><pre>DecisionTreeClassifier()</pre><b>In a Jupyter environment, please rerun this cell to show the HTML representation or trust the notebook. <br />On GitHub, the HTML representation is unable to render, please try loading this page with nbviewer.org.</b></div><div class=\"sk-container\" hidden><div class=\"sk-item\"><div class=\"sk-estimator sk-toggleable\"><input class=\"sk-toggleable__control sk-hidden--visually\" id=\"sk-estimator-id-2\" type=\"checkbox\" checked><label for=\"sk-estimator-id-2\" class=\"sk-toggleable__label sk-toggleable__label-arrow\">DecisionTreeClassifier</label><div class=\"sk-toggleable__content\"><pre>DecisionTreeClassifier()</pre></div></div></div></div></div>"
      ],
      "text/plain": [
       "DecisionTreeClassifier()"
      ]
     },
     "execution_count": 38,
     "metadata": {},
     "output_type": "execute_result"
    }
   ],
   "source": [
    "from sklearn.tree import DecisionTreeClassifier\n",
    "\n",
    "dt = DecisionTreeClassifier()\n",
    "dt.fit(X_train,y_train)"
   ]
  },
  {
   "cell_type": "code",
   "execution_count": 40,
   "id": "919f1cc2",
   "metadata": {},
   "outputs": [
    {
     "data": {
      "text/plain": [
       "[Text(0.5, 0.8333333333333334, 'x[7] <= 0.5\\ngini = 0.627\\nsamples = 266\\nvalue = [75, 60, 131]'),\n",
       " Text(0.25, 0.5, 'x[4] <= 1.975\\ngini = 0.656\\nsamples = 169\\nvalue = [70, 52, 47]'),\n",
       " Text(0.125, 0.16666666666666666, '\\n  (...)  \\n'),\n",
       " Text(0.375, 0.16666666666666666, '\\n  (...)  \\n'),\n",
       " Text(0.75, 0.5, 'x[5] <= 3.45\\ngini = 0.241\\nsamples = 97\\nvalue = [5, 8, 84]'),\n",
       " Text(0.625, 0.16666666666666666, '\\n  (...)  \\n'),\n",
       " Text(0.875, 0.16666666666666666, '\\n  (...)  \\n')]"
      ]
     },
     "execution_count": 40,
     "metadata": {},
     "output_type": "execute_result"
    },
    {
     "data": {
      "image/png": "[encoded data removed]",
      "text/plain": [
       "<Figure size 640x480 with 1 Axes>"
      ]
     },
     "metadata": {},
     "output_type": "display_data"
    }
   ],
   "source": [
    "import sklearn\n",
    "sklearn.tree.plot_tree(dt, max_depth=1)"
   ]
  },
  {
   "cell_type": "code",
   "execution_count": 41,
   "id": "7d89c3bd",
   "metadata": {},
   "outputs": [
    {
     "name": "stdout",
     "output_type": "stream",
     "text": [
      "Decision Tree accuracy on train set:  1.0\n",
      "Decision Tree accuracy on test set:  0.474\n"
     ]
    }
   ],
   "source": [
    "print(\"Decision Tree accuracy on train set: \", round(dt.score(X_train, y_train), 3))\n",
    "print(\"Decision Tree accuracy on test set: \", round(dt.score(X_test, y_test), 3))"
   ]
  },
  {
   "cell_type": "markdown",
   "id": "c6e7b8b2",
   "metadata": {},
   "source": [
    " There is overfitting."
   ]
  },
  {
   "cell_type": "code",
   "execution_count": 42,
   "id": "17578234",
   "metadata": {},
   "outputs": [],
   "source": [
    "# storage variables\n",
    "train_accuracies = []\n",
    "test_accuracies = []\n",
    "min_vals = np.linspace(0.001, 1, num = 500) # Penalty parameters to test\n",
    "\n",
    "# Hyperparameter tuning for loop\n",
    "for min_val in min_vals:\n",
    "    \n",
    "    # Fit model on training data\n",
    "    dt_tuned = DecisionTreeClassifier(min_samples_split = min_val)\n",
    "    dt_tuned.fit(X_train, y_train)\n",
    "    \n",
    "    # Store training and test accuracies\n",
    "    train_accuracies.append(dt_tuned.score(X_train,y_train))\n",
    "    test_accuracies.append(dt_tuned.score(X_test,y_test))"
   ]
  },
  {
   "cell_type": "code",
   "execution_count": 43,
   "id": "1f9b6a15",
   "metadata": {},
   "outputs": [
    {
     "data": {
      "text/plain": [
       "<matplotlib.legend.Legend at 0x21726863490>"
      ]
     },
     "execution_count": 43,
     "metadata": {},
     "output_type": "execute_result"
    },
    {
     "data": {
      "image/png": "[encoded data removed]",
      "text/plain": [
       "<Figure size 640x480 with 1 Axes>"
      ]
     },
     "metadata": {},
     "output_type": "display_data"
    }
   ],
   "source": [
    "# plot train and test accuracies\n",
    "fig = plt.figure()\n",
    "ax = fig.add_subplot(1,1,1)\n",
    "ax.plot(min_vals, train_accuracies, label = 'train')\n",
    "ax.plot(min_vals, test_accuracies, label = 'test')\n",
    "ax.set_xlabel('Values of Tuning Parameter (min samples)')\n",
    "ax.set_ylabel('Accuracy')\n",
    "ax.legend(loc = 'best')"
   ]
  },
  {
   "cell_type": "code",
   "execution_count": 45,
   "id": "370a0cc5",
   "metadata": {},
   "outputs": [
    {
     "name": "stdout",
     "output_type": "stream",
     "text": [
      "Maximum test accuracy:  0.632\n",
      "Value of min samples that achieved the max test accuracy:  0.13113\n"
     ]
    }
   ],
   "source": [
    "print(\"Maximum test accuracy: \", np.round(test_accuracies[np.argmax(test_accuracies)], 3))\n",
    "print('Value of min samples that achieved the max test accuracy: ', np.round(min_vals[np.argmax(test_accuracies)],5))"
   ]
  },
  {
   "cell_type": "markdown",
   "id": "ffbe4eb4",
   "metadata": {},
   "source": [
    "### iv) Random Forest"
   ]
  },
  {
   "cell_type": "code",
   "execution_count": 46,
   "id": "2f73b0bd",
   "metadata": {},
   "outputs": [
    {
     "name": "stdout",
     "output_type": "stream",
     "text": [
      "Random forest accuracy on train set:  1.0\n",
      "Random Forest accuracy on test set:  0.596\n"
     ]
    }
   ],
   "source": [
    "from sklearn.ensemble import RandomForestClassifier\n",
    "\n",
    "rf = RandomForestClassifier()\n",
    "rf.fit(X_train, y_train)\n",
    "\n",
    "print('Random forest accuracy on train set: ', round(rf.score(X_train,y_train),3))\n",
    "print('Random Forest accuracy on test set: ', round(rf.score(X_test,y_test),3))"
   ]
  },
  {
   "cell_type": "code",
   "execution_count": 47,
   "id": "99038034",
   "metadata": {},
   "outputs": [],
   "source": [
    "# storage variables\n",
    "train_accuracies = []\n",
    "test_accuracies = []\n",
    "min_vals = np.linspace(0.001, 1, num = 10) # Penalty parameters to test\n",
    "nTrees = np.arange(1,1000,step=200)\n",
    "\n",
    "# Hyperparameter tuning for loop\n",
    "for min_val in min_vals:\n",
    "    for nTree in nTrees:\n",
    "        # Fit model on Training data\n",
    "        forest_tuned = RandomForestClassifier(min_samples_split = min_val, n_estimators = nTree)\n",
    "        forest_tuned.fit(X_train, y_train)\n",
    "        \n",
    "        # Store training and test accuracies\n",
    "        train_accuracies.append(forest_tuned.score(X_train,y_train))\n",
    "        test_accuracies.append(forest_tuned.score(X_test,y_test))"
   ]
  },
  {
   "cell_type": "code",
   "execution_count": 48,
   "id": "e4b9881d",
   "metadata": {},
   "outputs": [
    {
     "name": "stdout",
     "output_type": "stream",
     "text": [
      "Maximum test accuracy:  0.649\n",
      "Value of min samples that achieves max test accuracy:  0.001\n",
      "Value of min trees that achieves max test accuracy:  201\n"
     ]
    }
   ],
   "source": [
    "print('Maximum test accuracy: ', np.round(test_accuracies[np.argmax(test_accuracies)], 3))\n",
    "print('Value of min samples that achieves max test accuracy: ', np.round(min_vals[round(np.argmax(test_accuracies)/1000)],5))\n",
    "print('Value of min trees that achieves max test accuracy: ', np.round(nTrees[1],5))"
   ]
  },
  {
   "cell_type": "code",
   "execution_count": 50,
   "id": "8c4a2b96",
   "metadata": {},
   "outputs": [
    {
     "data": {
      "image/png": "[encoded data removed]",
      "text/plain": [
       "<Figure size 640x480 with 1 Axes>"
      ]
     },
     "metadata": {},
     "output_type": "display_data"
    }
   ],
   "source": [
    "# Get random forest feature importances\n",
    "\n",
    "importances = rf.feature_importances_\n",
    "feature_names = X_train.columns\n",
    "\n",
    "forest_importances = pd.Series(importances, index=feature_names)\n",
    "\n",
    "fig, ax = plt.subplots()\n",
    "forest_importances[forest_importances > 0.02].sort_values(ascending = False).plot.bar(ax=ax)\n",
    "ax.set_title(\"Feature importances using MDI\")\n",
    "ax.set_ylabel(\"Mean decrease in impurity\")\n",
    "fig.tight_layout()"
   ]
  },
  {
   "cell_type": "markdown",
   "id": "67d35824",
   "metadata": {},
   "source": [
    "Based on the results, we can successfully conclude that the Random Forests Model gives us the most accurate predictions."
   ]
  },
  {
   "cell_type": "markdown",
   "id": "763e4214",
   "metadata": {},
   "source": [
    "#### Predicting a Single Instance"
   ]
  },
  {
   "cell_type": "code",
   "execution_count": 62,
   "id": "8cd8c641",
   "metadata": {},
   "outputs": [
    {
     "name": "stdout",
     "output_type": "stream",
     "text": [
      "Predicted Outcome: ['H']\n"
     ]
    }
   ],
   "source": [
    "# Creating a single-row DataFrame with actual values\n",
    "single_instance_df = pd.DataFrame({\n",
    "    'H_Ranking_Prior_Season': [8],\n",
    "    'A_Ranking_Prior_Season': [1],\n",
    "    'HTHG': [0],\n",
    "    'HTAG': [2],\n",
    "    'B365H': [1.8],\n",
    "    'B365D': [3.2],\n",
    "    'B365A': [4.5],\n",
    "    'half_time_GD': [-2],\n",
    "    'HomeTeam_Arsenal': [0],\n",
    "    'HomeTeam_Aston Villa': [0],\n",
    "    'HomeTeam_Bournemouth': [0],\n",
    "    'HomeTeam_Brentford': [0],\n",
    "    'HomeTeam_Brighton': [0],\n",
    "    'HomeTeam_Chelsea': [0],\n",
    "    'HomeTeam_Crystal Palace': [1],\n",
    "    'HomeTeam_Everton': [0],\n",
    "    'HomeTeam_Fulham': [0],\n",
    "    'HomeTeam_Leeds': [0],\n",
    "    'HomeTeam_Leicester': [0],\n",
    "    'HomeTeam_Liverpool': [0],\n",
    "    'HomeTeam_Man City': [0],\n",
    "    'HomeTeam_Man United': [0],\n",
    "    'HomeTeam_Newcastle': [0],\n",
    "    'HomeTeam_Nott\\'m Forest': [0],\n",
    "    'HomeTeam_Southampton': [0],\n",
    "    'HomeTeam_Tottenham': [0],\n",
    "    'HomeTeam_West Ham': [0],\n",
    "    'HomeTeam_Wolves': [0],\n",
    "    'AwayTeam_Arsenal': [0],\n",
    "    'AwayTeam_Aston Villa': [0],\n",
    "    'AwayTeam_Bournemouth': [0],\n",
    "    'AwayTeam_Brentford': [0],\n",
    "    'AwayTeam_Brighton': [0],\n",
    "    'AwayTeam_Chelsea': [0],\n",
    "    'AwayTeam_Crystal Palace': [0],\n",
    "    'AwayTeam_Everton': [0],\n",
    "    'AwayTeam_Fulham': [0],\n",
    "    'AwayTeam_Leeds': [0],\n",
    "    'AwayTeam_Leicester': [0],\n",
    "    'AwayTeam_Liverpool': [1],\n",
    "    'AwayTeam_Man City': [0],\n",
    "    'AwayTeam_Man United': [0],\n",
    "    'AwayTeam_Newcastle': [0],\n",
    "    'AwayTeam_Nott\\'m Forest': [0],\n",
    "    'AwayTeam_Southampton': [0],\n",
    "    'AwayTeam_Tottenham': [0],\n",
    "    'AwayTeam_West Ham': [0],\n",
    "    'AwayTeam_Wolves': [0],\n",
    "    'HTR_A': [0],\n",
    "    'HTR_D': [1],\n",
    "    'HTR_H': [0]\n",
    "})\n",
    "\n",
    "# Use the trained model to predict the outcome for the single instance\n",
    "prediction = forest_tuned.predict(single_instance_df)\n",
    "\n",
    "# Print the predicted outcome\n",
    "print(\"Predicted Outcome:\", prediction)"
   ]
  }
 ],
 "metadata": {
  "kernelspec": {
   "display_name": "Python 3 (ipykernel)",
   "language": "python",
   "name": "python3"
  },
  "language_info": {
   "codemirror_mode": {
    "name": "ipython",
    "version": 3
   },
   "file_extension": ".py",
   "mimetype": "text/x-python",
   "name": "python",
   "nbconvert_exporter": "python",
   "pygments_lexer": "ipython3",
   "version": "3.11.3"
  }
 },
 "nbformat": 4,
 "nbformat_minor": 5
}
